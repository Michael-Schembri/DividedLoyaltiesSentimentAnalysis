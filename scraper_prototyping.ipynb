{
 "cells": [
  {
   "cell_type": "markdown",
   "metadata": {},
   "source": [
    "# Construct function\n",
    "This notebook contains the steps gone through to examine the structure of the pages that will be scraped and to construct the individual scraping functions."
   ]
  },
  {
   "cell_type": "code",
   "execution_count": 1,
   "metadata": {},
   "outputs": [],
   "source": [
    "import bs4\n",
    "from bs4 import BeautifulSoup as bs\n",
    "import pandas as pd\n",
    "import requests\n",
    "import re"
   ]
  },
  {
   "cell_type": "markdown",
   "metadata": {},
   "source": [
    "Extract list of links from the threadmarks page, for use in pipeline"
   ]
  },
  {
   "cell_type": "code",
   "execution_count": 3,
   "metadata": {},
   "outputs": [],
   "source": [
    "dl_page_html = open('test_data/dl_threadmarks.html').read()\n",
    "dl_soup = bs(dl_page_html)\n",
    "# foreach threadmark, extract the title of the post, the hyperlink and the post id\n",
    "\n",
    "post_id_ex = re.compile('post-[0-9]*')\n",
    "\n",
    "html_links = [t.find('a') for t in dl_soup.find_all(class_='structItem-title threadmark_depth0')] \n",
    "threadmark_links = [(l.text.lstrip().rstrip(), l['href'], post_id_ex.findall(l['href'])[0]) for l in html_links]\n"
   ]
  },
  {
   "cell_type": "code",
   "execution_count": 4,
   "metadata": {},
   "outputs": [
    {
     "output_type": "execute_result",
     "data": {
      "text/plain": "'post-9987149'"
     },
     "metadata": {},
     "execution_count": 4
    }
   ],
   "source": [
    "post_id_from_tm = threadmark_links[0][2]\n",
    "post_id_from_tm"
   ]
  },
  {
   "cell_type": "markdown",
   "metadata": {},
   "source": [
    "# Extract particular posts from page"
   ]
  },
  {
   "cell_type": "code",
   "execution_count": 5,
   "metadata": {},
   "outputs": [],
   "source": [
    "page_html = open('test_data/dl_page_1.html').read()\n",
    "page_soup = bs(page_html)"
   ]
  },
  {
   "cell_type": "markdown",
   "metadata": {},
   "source": [
    "Retrieve a single post from html, using the post id to identify the post"
   ]
  },
  {
   "cell_type": "code",
   "execution_count": 6,
   "metadata": {},
   "outputs": [],
   "source": [
    "post = page_soup.find(attrs={'data-content':post_id_from_tm})"
   ]
  },
  {
   "cell_type": "markdown",
   "metadata": {},
   "source": [
    "retrieve the content of the post"
   ]
  },
  {
   "cell_type": "code",
   "execution_count": 7,
   "metadata": {},
   "outputs": [
    {
     "output_type": "execute_result",
     "data": {
      "text/plain": "'\\n\\n                   Within the borders of the Empire of Man, the Elector Counts are among the highest of nobility, second only to the Emperor and - arguably, very arguably - the High Priests. Their word is all but law over the countless thousands of souls within their province.\\n                   \\n\\n                   You are not an Elector Count. But you are the next best thing.\\n                   \\n\\n                   You have secured a position in the Privy Council of a newly-arisen Elector Count, an instrument for their will in a specific domain. But also an instrument for your own will; because like all people, you have your own ambitions. The way you present information, the solutions you present, the options you put towards them and how you explain them; all of these will allow you a great deal of leeway in how you go about your business, and allowing you to pursue your own private goals.\\n                   \\n\\n                   The first question is: in what province have you com'"
     },
     "metadata": {},
     "execution_count": 7
    }
   ],
   "source": [
    "post_body = post.find('article', class_=\"message-body\")\n",
    "post_body.text[:1000]"
   ]
  },
  {
   "cell_type": "markdown",
   "metadata": {},
   "source": [
    "retrieve the author, and other metadata"
   ]
  },
  {
   "cell_type": "code",
   "execution_count": 8,
   "metadata": {},
   "outputs": [
    {
     "output_type": "execute_result",
     "data": {
      "text/plain": "'BoneyM'"
     },
     "metadata": {},
     "execution_count": 8
    }
   ],
   "source": [
    "post_author = post['data-author']\n",
    "post_author"
   ]
  },
  {
   "cell_type": "code",
   "execution_count": 9,
   "metadata": {},
   "outputs": [
    {
     "output_type": "execute_result",
     "data": {
      "text/plain": "'Jan 18, 2018'"
     },
     "metadata": {},
     "execution_count": 9
    }
   ],
   "source": [
    "post_time = post.find(class_='message-attribution').find('time').text.lstrip().rstrip()\n",
    "post_time"
   ]
  },
  {
   "cell_type": "code",
   "execution_count": 10,
   "metadata": {},
   "outputs": [],
   "source": [
    "# Extract information meta information from threadmarked posts"
   ]
  },
  {
   "cell_type": "code",
   "execution_count": 11,
   "metadata": {},
   "outputs": [],
   "source": [
    "def collect_metadata(p):\n",
    "    header = p.find(class_=\"message-cell--threadmark-header\")\n",
    "    if (header):\n",
    "        t_threadmark_id = header.find('label')['for']\n",
    "        t_threadmark_type = header.find('label').text.rstrip().lstrip()\n",
    "        t_threadmark_title = header.find(class_='threadmarkLabel',attrs={'id':t_threadmark_id}).text.rstrip().lstrip()\n",
    "        return (t_threadmark_type, t_threadmark_title)\n",
    "    else:\n",
    "        return ('Regular', None)"
   ]
  },
  {
   "cell_type": "code",
   "execution_count": 12,
   "metadata": {},
   "outputs": [
    {
     "output_type": "execute_result",
     "data": {
      "text/plain": "('Threadmarks', 'Character Creation - Part 1')"
     },
     "metadata": {},
     "execution_count": 12
    }
   ],
   "source": [
    "collect_metadata(post)"
   ]
  },
  {
   "cell_type": "markdown",
   "metadata": {},
   "source": [
    "## Finalized function"
   ]
  },
  {
   "cell_type": "code",
   "execution_count": 53,
   "metadata": {},
   "outputs": [],
   "source": [
    "def extract_info(p):\n",
    "    author = p['data-author']\n",
    "    date = p.find(class_='message-attribution').find('time').text.rstrip().lstrip()\n",
    "\n",
    "    identification_raw = p.find(class_='message-attribution-opposite--list').find_all('a')[1]\n",
    "    (identification_raw.text.rstrip().lstrip().replace('#',''),identification_raw['href'].split('/')[-1])\n",
    "    sv_post_number = identification_raw['href'].split('/')[-1]\n",
    "    \n",
    "    thread_post_number = identification_raw.text.rstrip().lstrip().replace('#','')\n",
    "    content = p.find(class_='message-body').text.rstrip().lstrip() \n",
    "\n",
    "    metadata = collect_metadata(p)\n",
    "    \n",
    "    return {\n",
    "        'thread_post_nr':thread_post_number,\n",
    "        'sv_post_id':sv_post_number,\n",
    "        'post_author':author,\n",
    "        'post_date':date,\n",
    "        'threadmark_type':metadata[0],\n",
    "        'threadmark_title':metadata[1],\n",
    "        'post_content':content}\n"
   ]
  },
  {
   "cell_type": "code",
   "execution_count": 54,
   "metadata": {},
   "outputs": [],
   "source": [
    "all_posts_in_page = page_soup.find_all('article',class_='message')\n",
    "all_post_list =[p for p in all_posts_in_page]\n",
    "inspect_post = all_post_list[2]\n",
    "#inspect_post"
   ]
  },
  {
   "cell_type": "code",
   "execution_count": 55,
   "metadata": {},
   "outputs": [
    {
     "output_type": "execute_result",
     "data": {
      "text/plain": "{'thread_post_nr': '3',\n 'sv_post_id': 'post-9987281',\n 'post_author': 'veekie',\n 'post_date': 'Jan 18, 2018',\n 'threadmark_type': 'Regular',\n 'threadmark_title': None,\n 'post_content': \"[X] STIRLAND\\n                   \\n                   [X] Intrigue: The Spymaster is the master of soft power in the realm, responsible for hiding the Elector Count's secrets and uncovering those of everyone else. Gives you a great deal of leeway in how you go about things, but also makes you a target for everyone trying to get away with skulduggery in the province, and being anything short of omniscient is often considered a failing by those that don't have to do the job.\\n                   \\n                   [X] Sleeper Agent: Perhaps you did not quite attain the position; perhaps it was thrust unto you, and perhaps those that did the thrusting have attached several strings to the position.\\n                   \\n                   Only required to pass on information, making it usually less burdensome than other motivations; sometimes you may be tasked with seeking out specific information, and in special circumstances you may be required to intervene and risk revealing yourself. You're not entirely sure who your true master is, but they seem benign.\"}"
     },
     "metadata": {},
     "execution_count": 55
    }
   ],
   "source": [
    "extract_info(inspect_post)"
   ]
  },
  {
   "cell_type": "markdown",
   "metadata": {},
   "source": [
    "# Export data"
   ]
  },
  {
   "cell_type": "code",
   "execution_count": 56,
   "metadata": {},
   "outputs": [],
   "source": [
    "list_of_records = []\n",
    "\n",
    "for post in all_post_list:\n",
    "    list_of_records.append(extract_info(post))"
   ]
  },
  {
   "cell_type": "code",
   "execution_count": 57,
   "metadata": {},
   "outputs": [],
   "source": [
    "posts_data = pd.DataFrame(list_of_records)"
   ]
  },
  {
   "cell_type": "code",
   "execution_count": 58,
   "metadata": {},
   "outputs": [
    {
     "output_type": "execute_result",
     "data": {
      "text/plain": "   thread_post_nr    sv_post_id      post_author     post_date  \\\n0               1  post-9987149           BoneyM  Jan 18, 2018   \n1               2  post-9987164           gutza1  Jan 18, 2018   \n2               3  post-9987281           veekie  Jan 18, 2018   \n3               4  post-9987290      bryanfran36  Jan 18, 2018   \n4               5  post-9987312          Drucchi  Jan 18, 2018   \n5               6  post-9987320      avatar11792  Jan 18, 2018   \n6               7  post-9987383     Void Stalker  Jan 18, 2018   \n7               8  post-9987385           gutza1  Jan 18, 2018   \n8               9  post-9987398            Hannz  Jan 18, 2018   \n9              10  post-9987421          Uhtread  Jan 18, 2018   \n10             11  post-9987480     wingstrike96  Jan 18, 2018   \n11             12  post-9987668         butchock  Jan 18, 2018   \n12             13  post-9987891       Troglodyte  Jan 18, 2018   \n13             14  post-9987939          Heretek  Jan 18, 2018   \n14             15  post-9988541  lavanderjasmine  Jan 18, 2018   \n15             16  post-9988590     EVA-Saiyajin  Jan 18, 2018   \n16             17  post-9988697      Skycrafterf  Jan 18, 2018   \n17             18  post-9988830    GhostKing 666  Jan 18, 2018   \n18             19  post-9988894          Azurath  Jan 18, 2018   \n19             20  post-9989046      Kingofbooks  Jan 18, 2018   \n20             21  post-9989049       sleepyanon  Jan 18, 2018   \n21             22  post-9989200           Easter  Jan 18, 2018   \n22             23  post-9990006           BoneyM  Jan 18, 2018   \n23             24  post-9990061         Rotekian  Jan 18, 2018   \n24             25  post-9990730      StarkDemise  Jan 18, 2018   \n\n   threadmark_type             threadmark_title  \\\n0      Threadmarks  Character Creation - Part 1   \n1          Regular                         None   \n2          Regular                         None   \n3          Regular                         None   \n4          Regular                         None   \n5          Regular                         None   \n6          Regular                         None   \n7          Regular                         None   \n8          Regular                         None   \n9          Regular                         None   \n10         Regular                         None   \n11         Regular                         None   \n12         Regular                         None   \n13         Regular                         None   \n14         Regular                         None   \n15         Regular                         None   \n16         Regular                         None   \n17         Regular                         None   \n18         Regular                         None   \n19         Regular                         None   \n20         Regular                         None   \n21         Regular                         None   \n22         Regular                         None   \n23         Regular                         None   \n24         Regular                         None   \n\n                                         post_content  \n0   Within the borders of the Empire of Man, the E...  \n1   [X] AVERLAND\\n                   \\n\\n         ...  \n2   [X] STIRLAND\\n                   \\n           ...  \n3   [X] STIRLAND\\n                   \\n           ...  \n4   I really like Sylvania, so let's go with Stirl...  \n5   [X] HOCHLAND\\n                   \\n\\n         ...  \n6   [X] HOCHLAND\\n                   \\n\\n         ...  \n7   I personally would find it cool to play as a m...  \n8   [X] HOCHLAND\\n                   \\n\\n         ...  \n9   [X] HOCHLAND\\n                   \\n\\n         ...  \n10  [X] STIRLAND\\n                   \\n           ...  \n11  [X] HOCHLAND\\n                   \\n\\n         ...  \n12  [X] HOCHLAND\\n                   \\n\\n         ...  \n13  [X] HOCHLAND\\n                   \\n           ...  \n14  [X] STIRLAND\\n                   \\n           ...  \n15  [X] STIRLAND\\n                   \\n           ...  \n16  [X] STIRLAND\\n                   \\n           ...  \n17  [X] AVERLAND\\n                   \\n\\n         ...  \n18  [X] STIRLAND\\n                   \\n           ...  \n19  [X] STIRLAND\\n                   \\n           ...  \n20  [X] AVERLAND\\n                   \\n\\n         ...  \n21  [X] AVERLAND\\n                   \\n\\n         ...  \n22  A Stirland Spymaster has taken the lead, but H...  \n23  [X] HOCHLAND\\n                   \\n\\n         ...  \n24  [X] STIRLAND\\n                   \\n\\n         ...  ",
      "text/html": "<div>\n<style scoped>\n    .dataframe tbody tr th:only-of-type {\n        vertical-align: middle;\n    }\n\n    .dataframe tbody tr th {\n        vertical-align: top;\n    }\n\n    .dataframe thead th {\n        text-align: right;\n    }\n</style>\n<table border=\"1\" class=\"dataframe\">\n  <thead>\n    <tr style=\"text-align: right;\">\n      <th></th>\n      <th>thread_post_nr</th>\n      <th>sv_post_id</th>\n      <th>post_author</th>\n      <th>post_date</th>\n      <th>threadmark_type</th>\n      <th>threadmark_title</th>\n      <th>post_content</th>\n    </tr>\n  </thead>\n  <tbody>\n    <tr>\n      <th>0</th>\n      <td>1</td>\n      <td>post-9987149</td>\n      <td>BoneyM</td>\n      <td>Jan 18, 2018</td>\n      <td>Threadmarks</td>\n      <td>Character Creation - Part 1</td>\n      <td>Within the borders of the Empire of Man, the E...</td>\n    </tr>\n    <tr>\n      <th>1</th>\n      <td>2</td>\n      <td>post-9987164</td>\n      <td>gutza1</td>\n      <td>Jan 18, 2018</td>\n      <td>Regular</td>\n      <td>None</td>\n      <td>[X] AVERLAND\\n                   \\n\\n         ...</td>\n    </tr>\n    <tr>\n      <th>2</th>\n      <td>3</td>\n      <td>post-9987281</td>\n      <td>veekie</td>\n      <td>Jan 18, 2018</td>\n      <td>Regular</td>\n      <td>None</td>\n      <td>[X] STIRLAND\\n                   \\n           ...</td>\n    </tr>\n    <tr>\n      <th>3</th>\n      <td>4</td>\n      <td>post-9987290</td>\n      <td>bryanfran36</td>\n      <td>Jan 18, 2018</td>\n      <td>Regular</td>\n      <td>None</td>\n      <td>[X] STIRLAND\\n                   \\n           ...</td>\n    </tr>\n    <tr>\n      <th>4</th>\n      <td>5</td>\n      <td>post-9987312</td>\n      <td>Drucchi</td>\n      <td>Jan 18, 2018</td>\n      <td>Regular</td>\n      <td>None</td>\n      <td>I really like Sylvania, so let's go with Stirl...</td>\n    </tr>\n    <tr>\n      <th>5</th>\n      <td>6</td>\n      <td>post-9987320</td>\n      <td>avatar11792</td>\n      <td>Jan 18, 2018</td>\n      <td>Regular</td>\n      <td>None</td>\n      <td>[X] HOCHLAND\\n                   \\n\\n         ...</td>\n    </tr>\n    <tr>\n      <th>6</th>\n      <td>7</td>\n      <td>post-9987383</td>\n      <td>Void Stalker</td>\n      <td>Jan 18, 2018</td>\n      <td>Regular</td>\n      <td>None</td>\n      <td>[X] HOCHLAND\\n                   \\n\\n         ...</td>\n    </tr>\n    <tr>\n      <th>7</th>\n      <td>8</td>\n      <td>post-9987385</td>\n      <td>gutza1</td>\n      <td>Jan 18, 2018</td>\n      <td>Regular</td>\n      <td>None</td>\n      <td>I personally would find it cool to play as a m...</td>\n    </tr>\n    <tr>\n      <th>8</th>\n      <td>9</td>\n      <td>post-9987398</td>\n      <td>Hannz</td>\n      <td>Jan 18, 2018</td>\n      <td>Regular</td>\n      <td>None</td>\n      <td>[X] HOCHLAND\\n                   \\n\\n         ...</td>\n    </tr>\n    <tr>\n      <th>9</th>\n      <td>10</td>\n      <td>post-9987421</td>\n      <td>Uhtread</td>\n      <td>Jan 18, 2018</td>\n      <td>Regular</td>\n      <td>None</td>\n      <td>[X] HOCHLAND\\n                   \\n\\n         ...</td>\n    </tr>\n    <tr>\n      <th>10</th>\n      <td>11</td>\n      <td>post-9987480</td>\n      <td>wingstrike96</td>\n      <td>Jan 18, 2018</td>\n      <td>Regular</td>\n      <td>None</td>\n      <td>[X] STIRLAND\\n                   \\n           ...</td>\n    </tr>\n    <tr>\n      <th>11</th>\n      <td>12</td>\n      <td>post-9987668</td>\n      <td>butchock</td>\n      <td>Jan 18, 2018</td>\n      <td>Regular</td>\n      <td>None</td>\n      <td>[X] HOCHLAND\\n                   \\n\\n         ...</td>\n    </tr>\n    <tr>\n      <th>12</th>\n      <td>13</td>\n      <td>post-9987891</td>\n      <td>Troglodyte</td>\n      <td>Jan 18, 2018</td>\n      <td>Regular</td>\n      <td>None</td>\n      <td>[X] HOCHLAND\\n                   \\n\\n         ...</td>\n    </tr>\n    <tr>\n      <th>13</th>\n      <td>14</td>\n      <td>post-9987939</td>\n      <td>Heretek</td>\n      <td>Jan 18, 2018</td>\n      <td>Regular</td>\n      <td>None</td>\n      <td>[X] HOCHLAND\\n                   \\n           ...</td>\n    </tr>\n    <tr>\n      <th>14</th>\n      <td>15</td>\n      <td>post-9988541</td>\n      <td>lavanderjasmine</td>\n      <td>Jan 18, 2018</td>\n      <td>Regular</td>\n      <td>None</td>\n      <td>[X] STIRLAND\\n                   \\n           ...</td>\n    </tr>\n    <tr>\n      <th>15</th>\n      <td>16</td>\n      <td>post-9988590</td>\n      <td>EVA-Saiyajin</td>\n      <td>Jan 18, 2018</td>\n      <td>Regular</td>\n      <td>None</td>\n      <td>[X] STIRLAND\\n                   \\n           ...</td>\n    </tr>\n    <tr>\n      <th>16</th>\n      <td>17</td>\n      <td>post-9988697</td>\n      <td>Skycrafterf</td>\n      <td>Jan 18, 2018</td>\n      <td>Regular</td>\n      <td>None</td>\n      <td>[X] STIRLAND\\n                   \\n           ...</td>\n    </tr>\n    <tr>\n      <th>17</th>\n      <td>18</td>\n      <td>post-9988830</td>\n      <td>GhostKing 666</td>\n      <td>Jan 18, 2018</td>\n      <td>Regular</td>\n      <td>None</td>\n      <td>[X] AVERLAND\\n                   \\n\\n         ...</td>\n    </tr>\n    <tr>\n      <th>18</th>\n      <td>19</td>\n      <td>post-9988894</td>\n      <td>Azurath</td>\n      <td>Jan 18, 2018</td>\n      <td>Regular</td>\n      <td>None</td>\n      <td>[X] STIRLAND\\n                   \\n           ...</td>\n    </tr>\n    <tr>\n      <th>19</th>\n      <td>20</td>\n      <td>post-9989046</td>\n      <td>Kingofbooks</td>\n      <td>Jan 18, 2018</td>\n      <td>Regular</td>\n      <td>None</td>\n      <td>[X] STIRLAND\\n                   \\n           ...</td>\n    </tr>\n    <tr>\n      <th>20</th>\n      <td>21</td>\n      <td>post-9989049</td>\n      <td>sleepyanon</td>\n      <td>Jan 18, 2018</td>\n      <td>Regular</td>\n      <td>None</td>\n      <td>[X] AVERLAND\\n                   \\n\\n         ...</td>\n    </tr>\n    <tr>\n      <th>21</th>\n      <td>22</td>\n      <td>post-9989200</td>\n      <td>Easter</td>\n      <td>Jan 18, 2018</td>\n      <td>Regular</td>\n      <td>None</td>\n      <td>[X] AVERLAND\\n                   \\n\\n         ...</td>\n    </tr>\n    <tr>\n      <th>22</th>\n      <td>23</td>\n      <td>post-9990006</td>\n      <td>BoneyM</td>\n      <td>Jan 18, 2018</td>\n      <td>Regular</td>\n      <td>None</td>\n      <td>A Stirland Spymaster has taken the lead, but H...</td>\n    </tr>\n    <tr>\n      <th>23</th>\n      <td>24</td>\n      <td>post-9990061</td>\n      <td>Rotekian</td>\n      <td>Jan 18, 2018</td>\n      <td>Regular</td>\n      <td>None</td>\n      <td>[X] HOCHLAND\\n                   \\n\\n         ...</td>\n    </tr>\n    <tr>\n      <th>24</th>\n      <td>25</td>\n      <td>post-9990730</td>\n      <td>StarkDemise</td>\n      <td>Jan 18, 2018</td>\n      <td>Regular</td>\n      <td>None</td>\n      <td>[X] STIRLAND\\n                   \\n\\n         ...</td>\n    </tr>\n  </tbody>\n</table>\n</div>"
     },
     "metadata": {},
     "execution_count": 58
    }
   ],
   "source": [
    "posts_data"
   ]
  },
  {
   "cell_type": "code",
   "execution_count": 59,
   "metadata": {},
   "outputs": [],
   "source": [
    "posts_data.to_csv('extracted_data/extracted_posts.csv',index=False,mode = 'w')"
   ]
  }
 ],
 "metadata": {
  "language_info": {
   "codemirror_mode": {
    "name": "ipython",
    "version": 3
   },
   "file_extension": ".py",
   "mimetype": "text/x-python",
   "name": "python",
   "nbconvert_exporter": "python",
   "pygments_lexer": "ipython3",
   "version": "3.8.3-final"
  },
  "orig_nbformat": 2,
  "kernelspec": {
   "name": "python_defaultSpec_1594897616141",
   "display_name": "Python 3.8.3 64-bit ('venv': venv)"
  }
 },
 "nbformat": 4,
 "nbformat_minor": 2
}